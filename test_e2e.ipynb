{
 "cells": [
  {
   "cell_type": "code",
   "execution_count": 1,
   "metadata": {},
   "outputs": [],
   "source": [
    "import sparseml.core.session as sml\n",
    "from sparseml.core.framework import Framework\n",
    "import torchvision\n",
    "from torchvision import transforms\n",
    "import torch\n",
    "from torch.utils.data import DataLoader\n",
    "import datasets\n",
    "import os\n",
    "from torch.optim import Adam\n",
    "from tqdm.auto import tqdm\n",
    "from torch.nn import CrossEntropyLoss\n",
    "from sparseml.core.event import EventType"
   ]
  },
  {
   "cell_type": "code",
   "execution_count": 2,
   "metadata": {},
   "outputs": [],
   "source": [
    "sml.create_session()\n",
    "session = sml.active_session()"
   ]
  },
  {
   "cell_type": "code",
   "execution_count": 3,
   "metadata": {},
   "outputs": [],
   "source": [
    "NUM_LABELS = 3\n",
    "model = torchvision.models.mobilenet_v2(weights=torchvision.models.MobileNet_V2_Weights.DEFAULT)\n",
    "model.classifier[1] = torch.nn.Linear(model.classifier[1].in_features, NUM_LABELS)\n",
    "optimizer = Adam(model.parameters(), lr=8e-3)\n",
    "criterion = CrossEntropyLoss()"
   ]
  },
  {
   "cell_type": "code",
   "execution_count": 4,
   "metadata": {},
   "outputs": [
    {
     "name": "stderr",
     "output_type": "stream",
     "text": [
      "Found cached dataset beans (/home/sadkins/.cache/huggingface/datasets/beans/default/0.0.0/90c755fb6db1c0ccdad02e897a37969dbf070bed3755d4391e269ff70642d791)\n"
     ]
    },
    {
     "data": {
      "application/vnd.jupyter.widget-view+json": {
       "model_id": "335893b467c8472b9cafb1717d7a7cdb",
       "version_major": 2,
       "version_minor": 0
      },
      "text/plain": [
       "  0%|          | 0/3 [00:00<?, ?it/s]"
      ]
     },
     "metadata": {},
     "output_type": "display_data"
    },
    {
     "name": "stdout",
     "output_type": "stream",
     "text": [
      "/home/sadkins/.cache/huggingface/datasets/downloads/extracted/dbf92bfb2c3766fb3083a51374ad94d8a3690f53cdf0f9113a231c2351c9ff33/train/angular_leaf_spot/angular_leaf_spot_train.0.jpg\n",
      "/home/sadkins/.cache/huggingface/datasets/downloads/extracted/510ede718de2aeaa2f9d88b0d81d88c449beeb7d074ea594bdf25a0e6a9d51d0/validation/angular_leaf_spot/angular_leaf_spot_val.0.jpg\n"
     ]
    }
   ],
   "source": [
    "beans_dataset = datasets.load_dataset(\"beans\")\n",
    "print(beans_dataset[\"train\"][0][\"image_file_path\"])\n",
    "print(beans_dataset[\"validation\"][0][\"image_file_path\"])"
   ]
  },
  {
   "cell_type": "code",
   "execution_count": 5,
   "metadata": {},
   "outputs": [],
   "source": [
    "train_path = \"/home/sadkins/.cache/huggingface/datasets/downloads/extracted/dbf92bfb2c3766fb3083a51374ad94d8a3690f53cdf0f9113a231c2351c9ff33/train\"\n",
    "val_path = \"/home/sadkins/.cache/huggingface/datasets/downloads/extracted/510ede718de2aeaa2f9d88b0d81d88c449beeb7d074ea594bdf25a0e6a9d51d0/validation\""
   ]
  },
  {
   "cell_type": "code",
   "execution_count": 6,
   "metadata": {},
   "outputs": [],
   "source": [
    "NUM_LABELS = 3\n",
    "BATCH_SIZE = 32\n",
    "\n",
    "# imagenet transforms\n",
    "imagenet_transform = transforms.Compose([\n",
    "   transforms.Resize(size=256, interpolation=transforms.InterpolationMode.BILINEAR, max_size=None, antialias=None),\n",
    "   transforms.CenterCrop(size=(224, 224)),\n",
    "   transforms.ToTensor(),\n",
    "   transforms.Normalize(mean=[0.485, 0.456, 0.406], std=[0.229, 0.224, 0.225])\n",
    "])\n",
    "\n",
    "# datasets\n",
    "train_dataset = torchvision.datasets.ImageFolder(\n",
    "    root=train_path,\n",
    "    transform=imagenet_transform\n",
    ")\n",
    "\n",
    "val_dataset = torchvision.datasets.ImageFolder(\n",
    "    root=val_path,\n",
    "    transform=imagenet_transform\n",
    ")\n",
    "\n",
    "# dataloaders\n",
    "train_loader = DataLoader(train_dataset, BATCH_SIZE, shuffle=True, pin_memory=True, num_workers=16)\n",
    "val_loader = DataLoader(val_dataset, BATCH_SIZE, shuffle=False, pin_memory=True, num_workers=16)"
   ]
  },
  {
   "cell_type": "code",
   "execution_count": 7,
   "metadata": {},
   "outputs": [],
   "source": [
    "recipe = \"test_e2e_recipe.yaml\""
   ]
  },
  {
   "cell_type": "code",
   "execution_count": 8,
   "metadata": {},
   "outputs": [],
   "source": [
    "session_data = session.initialize(\n",
    "    framework=Framework.pytorch,\n",
    "    recipe=recipe,\n",
    "    model=model,\n",
    "    teacher_model=None,\n",
    "    optimizer=optimizer,\n",
    "    train_data=train_loader,\n",
    "    val_data=val_loader,\n",
    "    start=0.0,\n",
    "    steps_per_epoch= len(train_loader) / BATCH_SIZE # number of times steps in called per epoch (total_data / batch_size in normal cases)\n",
    ")"
   ]
  },
  {
   "cell_type": "code",
   "execution_count": 10,
   "metadata": {},
   "outputs": [
    {
     "ename": "ValueError",
     "evalue": "batch start must be called first for callbacks",
     "output_type": "error",
     "traceback": [
      "\u001b[0;31m---------------------------------------------------------------------------\u001b[0m",
      "\u001b[0;31mValueError\u001b[0m                                Traceback (most recent call last)",
      "Cell \u001b[0;32mIn[10], line 16\u001b[0m\n\u001b[1;32m     14\u001b[0m inputs \u001b[39m=\u001b[39m inputs\u001b[39m.\u001b[39mto(device)\n\u001b[1;32m     15\u001b[0m labels \u001b[39m=\u001b[39m labels\u001b[39m.\u001b[39mto(device)\n\u001b[0;32m---> 16\u001b[0m session\u001b[39m.\u001b[39;49mevent(event_type\u001b[39m=\u001b[39;49mEventType\u001b[39m.\u001b[39;49mBATCH_START, batch_data\u001b[39m=\u001b[39;49m(\u001b[39minput\u001b[39;49m, labels))\n\u001b[1;32m     17\u001b[0m session\u001b[39m.\u001b[39mstate\u001b[39m.\u001b[39moptimizer\u001b[39m.\u001b[39moptimizer\u001b[39m.\u001b[39mzero_grad()\n\u001b[1;32m     19\u001b[0m outputs \u001b[39m=\u001b[39m session\u001b[39m.\u001b[39mstate\u001b[39m.\u001b[39mmodel\u001b[39m.\u001b[39mmodel(inputs)\n",
      "File \u001b[0;32m~/sparseml/src/sparseml/core/session.py:150\u001b[0m, in \u001b[0;36mSparseSession.event\u001b[0;34m(self, event_type, batch_data, loss, **kwargs)\u001b[0m\n\u001b[1;32m    147\u001b[0m \u001b[39mdef\u001b[39;00m \u001b[39mevent\u001b[39m(\n\u001b[1;32m    148\u001b[0m     \u001b[39mself\u001b[39m, event_type: EventType, batch_data: Any \u001b[39m=\u001b[39m \u001b[39mNone\u001b[39;00m, loss: Any \u001b[39m=\u001b[39m \u001b[39mNone\u001b[39;00m, \u001b[39m*\u001b[39m\u001b[39m*\u001b[39mkwargs\n\u001b[1;32m    149\u001b[0m ) \u001b[39m-\u001b[39m\u001b[39m>\u001b[39m ModifiedState:\n\u001b[0;32m--> 150\u001b[0m     mod_data \u001b[39m=\u001b[39m \u001b[39mself\u001b[39;49m\u001b[39m.\u001b[39;49m_lifecycle\u001b[39m.\u001b[39;49mevent(\n\u001b[1;32m    151\u001b[0m         event_type\u001b[39m=\u001b[39;49mevent_type, batch_data\u001b[39m=\u001b[39;49mbatch_data, loss\u001b[39m=\u001b[39;49mloss, \u001b[39m*\u001b[39;49m\u001b[39m*\u001b[39;49mkwargs\n\u001b[1;32m    152\u001b[0m     )\n\u001b[1;32m    154\u001b[0m     \u001b[39mreturn\u001b[39;00m ModifiedState(\n\u001b[1;32m    155\u001b[0m         model\u001b[39m=\u001b[39m\u001b[39mself\u001b[39m\u001b[39m.\u001b[39mstate\u001b[39m.\u001b[39mmodel\u001b[39m.\u001b[39mmodel \u001b[39mif\u001b[39;00m \u001b[39mself\u001b[39m\u001b[39m.\u001b[39mstate\u001b[39m.\u001b[39mmodel \u001b[39melse\u001b[39;00m \u001b[39mNone\u001b[39;00m,\n\u001b[1;32m    156\u001b[0m         optimizer\u001b[39m=\u001b[39m\u001b[39mself\u001b[39m\u001b[39m.\u001b[39mstate\u001b[39m.\u001b[39moptimizer\u001b[39m.\u001b[39moptimizer \u001b[39mif\u001b[39;00m \u001b[39mself\u001b[39m\u001b[39m.\u001b[39mstate\u001b[39m.\u001b[39moptimizer \u001b[39melse\u001b[39;00m \u001b[39mNone\u001b[39;00m,\n\u001b[1;32m    157\u001b[0m         loss\u001b[39m=\u001b[39m\u001b[39mself\u001b[39m\u001b[39m.\u001b[39mstate\u001b[39m.\u001b[39mloss\u001b[39m.\u001b[39mloss \u001b[39mif\u001b[39;00m \u001b[39mself\u001b[39m\u001b[39m.\u001b[39mstate\u001b[39m.\u001b[39mloss \u001b[39melse\u001b[39;00m \u001b[39mNone\u001b[39;00m,\n\u001b[1;32m    158\u001b[0m         modifier_data\u001b[39m=\u001b[39mmod_data,\n\u001b[1;32m    159\u001b[0m     )\n",
      "File \u001b[0;32m~/sparseml/src/sparseml/core/lifecycle/session.py:140\u001b[0m, in \u001b[0;36mSparsificationLifecycle.event\u001b[0;34m(self, event_type, **kwargs)\u001b[0m\n\u001b[1;32m    138\u001b[0m event \u001b[39m=\u001b[39m \u001b[39mNone\u001b[39;00m\n\u001b[1;32m    139\u001b[0m mod_data \u001b[39m=\u001b[39m []\n\u001b[0;32m--> 140\u001b[0m \u001b[39mfor\u001b[39;00m event \u001b[39min\u001b[39;00m \u001b[39mself\u001b[39;49m\u001b[39m.\u001b[39;49mevent_lifecycle\u001b[39m.\u001b[39;49mevents_from_type(event_type):\n\u001b[1;32m    141\u001b[0m     \u001b[39mif\u001b[39;00m \u001b[39mself\u001b[39m\u001b[39m.\u001b[39mstate\u001b[39m.\u001b[39mstart_event \u001b[39mis\u001b[39;00m \u001b[39mNone\u001b[39;00m:\n\u001b[1;32m    142\u001b[0m         \u001b[39mself\u001b[39m\u001b[39m.\u001b[39mstate\u001b[39m.\u001b[39mstart_event \u001b[39m=\u001b[39m event\n",
      "File \u001b[0;32m~/sparseml/src/sparseml/core/lifecycle/event.py:43\u001b[0m, in \u001b[0;36mEventLifecycle.events_from_type\u001b[0;34m(self, type_)\u001b[0m\n\u001b[1;32m     41\u001b[0m \u001b[39mdef\u001b[39;00m \u001b[39mevents_from_type\u001b[39m(\u001b[39mself\u001b[39m, type_: EventType) \u001b[39m-\u001b[39m\u001b[39m>\u001b[39m List[Event]:\n\u001b[1;32m     42\u001b[0m     \u001b[39mif\u001b[39;00m type_ \u001b[39m==\u001b[39m EventType\u001b[39m.\u001b[39mBATCH_START:\n\u001b[0;32m---> 43\u001b[0m         \u001b[39mreturn\u001b[39;00m \u001b[39mself\u001b[39;49m\u001b[39m.\u001b[39;49mbatch_start_events()\n\u001b[1;32m     45\u001b[0m     \u001b[39mif\u001b[39;00m type_ \u001b[39m==\u001b[39m EventType\u001b[39m.\u001b[39mLOSS_CALCULATED:\n\u001b[1;32m     46\u001b[0m         \u001b[39mreturn\u001b[39;00m \u001b[39mself\u001b[39m\u001b[39m.\u001b[39mloss_calculated_events()\n",
      "File \u001b[0;32m~/sparseml/src/sparseml/core/lifecycle/event.py:214\u001b[0m, in \u001b[0;36mCallbacksEventLifecycle.batch_start_events\u001b[0;34m(self)\u001b[0m\n\u001b[1;32m    212\u001b[0m \u001b[39mdef\u001b[39;00m \u001b[39mbatch_start_events\u001b[39m(\u001b[39mself\u001b[39m) \u001b[39m-\u001b[39m\u001b[39m>\u001b[39m List[Event]:\n\u001b[1;32m    213\u001b[0m     \u001b[39mif\u001b[39;00m \u001b[39mself\u001b[39m\u001b[39m.\u001b[39mtype_first \u001b[39m!=\u001b[39m EventType\u001b[39m.\u001b[39mBATCH_START:\n\u001b[0;32m--> 214\u001b[0m         \u001b[39mraise\u001b[39;00m \u001b[39mValueError\u001b[39;00m(\u001b[39m\"\u001b[39m\u001b[39mbatch start must be called first for callbacks\u001b[39m\u001b[39m\"\u001b[39m)\n\u001b[1;32m    216\u001b[0m     \u001b[39mif\u001b[39;00m \u001b[39mself\u001b[39m\u001b[39m.\u001b[39mtype_ \u001b[39mis\u001b[39;00m \u001b[39mnot\u001b[39;00m \u001b[39mNone\u001b[39;00m \u001b[39mand\u001b[39;00m \u001b[39mself\u001b[39m\u001b[39m.\u001b[39mtype_ \u001b[39m!=\u001b[39m EventType\u001b[39m.\u001b[39mBATCH_END:\n\u001b[1;32m    217\u001b[0m         \u001b[39mraise\u001b[39;00m \u001b[39mValueError\u001b[39;00m(\u001b[39m\"\u001b[39m\u001b[39mbatch start must be called after batch end\u001b[39m\u001b[39m\"\u001b[39m)\n",
      "\u001b[0;31mValueError\u001b[0m: batch start must be called first for callbacks"
     ]
    }
   ],
   "source": [
    "running_loss = 0.0\n",
    "total_correct = 0\n",
    "total_predictions = 0\n",
    "\n",
    "NUM_EPOCHS = 15\n",
    "device = \"cuda:0\"\n",
    "\n",
    "\n",
    "session.state.model.model.to(device)\n",
    "\n",
    "# loop through batches\n",
    "for epoch in range(NUM_EPOCHS):\n",
    "    for step, (inputs, labels) in enumerate(session.state.data.train):\n",
    "        inputs = inputs.to(device)\n",
    "        labels = labels.to(device)\n",
    "        session.event(event_type=EventType.BATCH_START, batch_data=(input, labels))\n",
    "        session.state.optimizer.optimizer.zero_grad()\n",
    "\n",
    "        outputs = session.state.model.model(inputs)\n",
    "        loss = criterion(outputs, labels)\n",
    "        loss.backward()\n",
    "        session.event(event_type=EventType.LOSS_CALCULATED, loss=loss)\n",
    "\n",
    "        session.event(event_type=EventType.OPTIM_PRE_STEP)\n",
    "        session.state.optimizer.optimizer.step()\n",
    "        session.event(event_type=EventType.OPTIM_POST_STEP)\n",
    "\n",
    "        running_loss += loss.item()\n",
    "\n",
    "        predictions = outputs.argmax(dim=1)\n",
    "        total_correct += torch.sum(predictions == labels).item()\n",
    "        total_predictions += inputs.size(0)\n",
    "\n",
    "        #session.event(event_type=EventType.BATCH_END)\n",
    "\n",
    "    loss = running_loss / (step + 1.0)\n",
    "    accuracy = total_correct / total_predictions\n",
    "    print(\"Epoch: {} Loss: {} Accuracy: {}\".format(epoch, loss, accuracy))\n"
   ]
  },
  {
   "cell_type": "code",
   "execution_count": null,
   "metadata": {},
   "outputs": [],
   "source": [
    "from sparseml.pytorch.utils import get_prunable_layers, tensor_sparsity\n",
    "\n",
    "for (name, layer) in get_prunable_layers(session.state.model.model):\n",
    "    print(f\"{name}.weight: {tensor_sparsity(layer.weight).item():.4f}\")"
   ]
  },
  {
   "cell_type": "markdown",
   "metadata": {},
   "source": []
  }
 ],
 "metadata": {
  "kernelspec": {
   "display_name": ".venv",
   "language": "python",
   "name": "python3"
  },
  "language_info": {
   "codemirror_mode": {
    "name": "ipython",
    "version": 3
   },
   "file_extension": ".py",
   "mimetype": "text/x-python",
   "name": "python",
   "nbconvert_exporter": "python",
   "pygments_lexer": "ipython3",
   "version": "3.8.10"
  },
  "orig_nbformat": 4
 },
 "nbformat": 4,
 "nbformat_minor": 2
}
