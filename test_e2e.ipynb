{
 "cells": [
  {
   "cell_type": "code",
   "execution_count": 1,
   "metadata": {},
   "outputs": [],
   "source": [
    "import sparseml.core.session as sml\n",
    "from sparseml.core.framework import Framework\n",
    "import torchvision\n",
    "from torchvision import transforms\n",
    "import torch\n",
    "from torch.utils.data import DataLoader\n",
    "import datasets\n",
    "import os\n",
    "from torch.optim import Adam"
   ]
  },
  {
   "cell_type": "code",
   "execution_count": 2,
   "metadata": {},
   "outputs": [],
   "source": [
    "sml.create_session()\n",
    "session = sml.active_session()"
   ]
  },
  {
   "cell_type": "code",
   "execution_count": 3,
   "metadata": {},
   "outputs": [],
   "source": [
    "NUM_LABELS = 3\n",
    "model = torchvision.models.mobilenet_v2(weights=torchvision.models.MobileNet_V2_Weights.DEFAULT)\n",
    "model.classifier[1] = torch.nn.Linear(model.classifier[1].in_features, NUM_LABELS)\n",
    "optimizer = Adam(model.parameters(), lr=8e-3)"
   ]
  },
  {
   "cell_type": "code",
   "execution_count": 4,
   "metadata": {},
   "outputs": [
    {
     "name": "stderr",
     "output_type": "stream",
     "text": [
      "Found cached dataset beans (/home/sadkins/.cache/huggingface/datasets/beans/default/0.0.0/90c755fb6db1c0ccdad02e897a37969dbf070bed3755d4391e269ff70642d791)\n"
     ]
    },
    {
     "data": {
      "application/vnd.jupyter.widget-view+json": {
       "model_id": "6e77f370860f472394ab3547decb1fb7",
       "version_major": 2,
       "version_minor": 0
      },
      "text/plain": [
       "  0%|          | 0/3 [00:00<?, ?it/s]"
      ]
     },
     "metadata": {},
     "output_type": "display_data"
    },
    {
     "name": "stdout",
     "output_type": "stream",
     "text": [
      "/home/sadkins/.cache/huggingface/datasets/downloads/extracted/dbf92bfb2c3766fb3083a51374ad94d8a3690f53cdf0f9113a231c2351c9ff33/train/angular_leaf_spot/angular_leaf_spot_train.0.jpg\n",
      "/home/sadkins/.cache/huggingface/datasets/downloads/extracted/510ede718de2aeaa2f9d88b0d81d88c449beeb7d074ea594bdf25a0e6a9d51d0/validation/angular_leaf_spot/angular_leaf_spot_val.0.jpg\n"
     ]
    }
   ],
   "source": [
    "beans_dataset = datasets.load_dataset(\"beans\")\n",
    "print(beans_dataset[\"train\"][0][\"image_file_path\"])\n",
    "print(beans_dataset[\"validation\"][0][\"image_file_path\"])"
   ]
  },
  {
   "cell_type": "code",
   "execution_count": 5,
   "metadata": {},
   "outputs": [],
   "source": [
    "train_path = \"/home/sadkins/.cache/huggingface/datasets/downloads/extracted/dbf92bfb2c3766fb3083a51374ad94d8a3690f53cdf0f9113a231c2351c9ff33/train\"\n",
    "val_path = \"/home/sadkins/.cache/huggingface/datasets/downloads/extracted/510ede718de2aeaa2f9d88b0d81d88c449beeb7d074ea594bdf25a0e6a9d51d0/validation\""
   ]
  },
  {
   "cell_type": "code",
   "execution_count": 6,
   "metadata": {},
   "outputs": [],
   "source": [
    "NUM_LABELS = 3\n",
    "BATCH_SIZE = 32\n",
    "\n",
    "# imagenet transforms\n",
    "imagenet_transform = transforms.Compose([\n",
    "   transforms.Resize(size=256, interpolation=transforms.InterpolationMode.BILINEAR, max_size=None, antialias=None),\n",
    "   transforms.CenterCrop(size=(224, 224)),\n",
    "   transforms.ToTensor(),\n",
    "   transforms.Normalize(mean=[0.485, 0.456, 0.406], std=[0.229, 0.224, 0.225])\n",
    "])\n",
    "\n",
    "# datasets\n",
    "train_dataset = torchvision.datasets.ImageFolder(\n",
    "    root=train_path,\n",
    "    transform=imagenet_transform\n",
    ")\n",
    "\n",
    "val_dataset = torchvision.datasets.ImageFolder(\n",
    "    root=val_path,\n",
    "    transform=imagenet_transform\n",
    ")\n",
    "\n",
    "# dataloaders\n",
    "train_loader = DataLoader(train_dataset, BATCH_SIZE, shuffle=True, pin_memory=True, num_workers=16)\n",
    "val_loader = DataLoader(val_dataset, BATCH_SIZE, shuffle=False, pin_memory=True, num_workers=16)"
   ]
  },
  {
   "cell_type": "code",
   "execution_count": 7,
   "metadata": {},
   "outputs": [],
   "source": [
    "recipe = \"test_e2e_recipe.yaml\""
   ]
  },
  {
   "cell_type": "code",
   "execution_count": 8,
   "metadata": {},
   "outputs": [
    {
     "ename": "AttributeError",
     "evalue": "__fields_set__",
     "output_type": "error",
     "traceback": [
      "\u001b[0;31m---------------------------------------------------------------------------\u001b[0m",
      "\u001b[0;31mAttributeError\u001b[0m                            Traceback (most recent call last)",
      "Cell \u001b[0;32mIn[8], line 1\u001b[0m\n\u001b[0;32m----> 1\u001b[0m session\u001b[39m.\u001b[39;49minitialize(\n\u001b[1;32m      2\u001b[0m     framework\u001b[39m=\u001b[39;49mFramework\u001b[39m.\u001b[39;49mpytorch,\n\u001b[1;32m      3\u001b[0m     recipe\u001b[39m=\u001b[39;49mrecipe,\n\u001b[1;32m      4\u001b[0m     model\u001b[39m=\u001b[39;49mmodel,\n\u001b[1;32m      5\u001b[0m     teacher_model\u001b[39m=\u001b[39;49m\u001b[39mNone\u001b[39;49;00m,\n\u001b[1;32m      6\u001b[0m     optimizer\u001b[39m=\u001b[39;49moptimizer,\n\u001b[1;32m      7\u001b[0m     train_data\u001b[39m=\u001b[39;49mtrain_loader,\n\u001b[1;32m      8\u001b[0m     val_data\u001b[39m=\u001b[39;49mval_loader\n\u001b[1;32m      9\u001b[0m )\n",
      "File \u001b[0;32m~/sparseml/src/sparseml/core/session.py:145\u001b[0m, in \u001b[0;36mSparseSession.initialize\u001b[0;34m(self, framework, recipe, recipe_stage, recipe_args, model, teacher_model, optimizer, attach_optim_callbacks, train_data, val_data, test_data, calib_data, copy_data, start, steps_per_epoch, batches_per_step, **kwargs)\u001b[0m\n\u001b[1;32m    142\u001b[0m \u001b[39mself\u001b[39m\u001b[39m.\u001b[39mstate\u001b[39m.\u001b[39mupdate_data(train_data, val_data, test_data, calib_data, copy_data)\n\u001b[1;32m    143\u001b[0m \u001b[39mself\u001b[39m\u001b[39m.\u001b[39mstate\u001b[39m.\u001b[39mupdate_start(start, steps_per_epoch, batches_per_step)\n\u001b[0;32m--> 145\u001b[0m \u001b[39mself\u001b[39;49m\u001b[39m.\u001b[39;49m_check_compile_recipe()\n\u001b[1;32m    146\u001b[0m modifier_data \u001b[39m=\u001b[39m []\n\u001b[1;32m    148\u001b[0m \u001b[39mif\u001b[39;00m \u001b[39mself\u001b[39m\u001b[39m.\u001b[39m_modifiers:\n",
      "File \u001b[0;32m~/sparseml/src/sparseml/core/session.py:274\u001b[0m, in \u001b[0;36mSparseSession._check_compile_recipe\u001b[0;34m(self)\u001b[0m\n\u001b[1;32m    271\u001b[0m         \u001b[39mdel\u001b[39;00m \u001b[39mself\u001b[39m\u001b[39m.\u001b[39m_modifiers\n\u001b[1;32m    273\u001b[0m \u001b[39mif\u001b[39;00m \u001b[39mself\u001b[39m\u001b[39m.\u001b[39mstate\u001b[39m.\u001b[39mrecipe_modifier_ready:\n\u001b[0;32m--> 274\u001b[0m     \u001b[39mself\u001b[39m\u001b[39m.\u001b[39m_modifiers \u001b[39m=\u001b[39m \u001b[39mself\u001b[39;49m\u001b[39m.\u001b[39;49mstate\u001b[39m.\u001b[39;49mcompiled_recipe\u001b[39m.\u001b[39;49mcreate_modifier(\n\u001b[1;32m    275\u001b[0m         \u001b[39mself\u001b[39;49m\u001b[39m.\u001b[39;49mstate\u001b[39m.\u001b[39;49mframework\n\u001b[1;32m    276\u001b[0m     )\n",
      "File \u001b[0;32m~/sparseml/src/sparseml/core/recipe/recipe.py:133\u001b[0m, in \u001b[0;36mRecipe.create_modifier\u001b[0;34m(self, framework)\u001b[0m\n\u001b[1;32m    130\u001b[0m modifiers \u001b[39m=\u001b[39m []\n\u001b[1;32m    132\u001b[0m \u001b[39mfor\u001b[39;00m index, stage \u001b[39min\u001b[39;00m \u001b[39menumerate\u001b[39m(\u001b[39mself\u001b[39m\u001b[39m.\u001b[39mstages):\n\u001b[0;32m--> 133\u001b[0m     stage_modifiers \u001b[39m=\u001b[39m stage\u001b[39m.\u001b[39;49mcreate_modifier(framework)\n\u001b[1;32m    134\u001b[0m     stage_modifiers\u001b[39m.\u001b[39mindex \u001b[39m=\u001b[39m index\n\u001b[1;32m    135\u001b[0m     stage_modifiers\u001b[39m.\u001b[39mgroup \u001b[39m=\u001b[39m stage\u001b[39m.\u001b[39mgroup\n",
      "File \u001b[0;32m~/sparseml/src/sparseml/core/recipe/stage.py:66\u001b[0m, in \u001b[0;36mRecipeStage.create_modifier\u001b[0;34m(self, framework, parent_args)\u001b[0m\n\u001b[1;32m     64\u001b[0m \u001b[39mfor\u001b[39;00m index, modifier \u001b[39min\u001b[39;00m \u001b[39menumerate\u001b[39m(\u001b[39mself\u001b[39m\u001b[39m.\u001b[39mmodifiers):\n\u001b[1;32m     65\u001b[0m     modifier \u001b[39m=\u001b[39m modifier\u001b[39m.\u001b[39mcreate_modifier(framework)\n\u001b[0;32m---> 66\u001b[0m     modifier\u001b[39m.\u001b[39;49mgroup \u001b[39m=\u001b[39m \u001b[39mself\u001b[39m\u001b[39m.\u001b[39mgroup\n\u001b[1;32m     67\u001b[0m     modifier\u001b[39m.\u001b[39mindex \u001b[39m=\u001b[39m index\n\u001b[1;32m     69\u001b[0m \u001b[39mreturn\u001b[39;00m stage_modifiers\n",
      "File \u001b[0;32m~/sparseml/.venv/lib/python3.8/site-packages/pydantic/main.py:405\u001b[0m, in \u001b[0;36mpydantic.main.BaseModel.__setattr__\u001b[0;34m()\u001b[0m\n",
      "\u001b[0;31mAttributeError\u001b[0m: __fields_set__"
     ]
    }
   ],
   "source": [
    "session.initialize(\n",
    "    framework=Framework.pytorch,\n",
    "    recipe=recipe,\n",
    "    model=model,\n",
    "    teacher_model=None,\n",
    "    optimizer=optimizer,\n",
    "    train_data=train_loader,\n",
    "    val_data=val_loader\n",
    ")"
   ]
  },
  {
   "cell_type": "code",
   "execution_count": null,
   "metadata": {},
   "outputs": [],
   "source": []
  }
 ],
 "metadata": {
  "kernelspec": {
   "display_name": ".venv",
   "language": "python",
   "name": "python3"
  },
  "language_info": {
   "codemirror_mode": {
    "name": "ipython",
    "version": 3
   },
   "file_extension": ".py",
   "mimetype": "text/x-python",
   "name": "python",
   "nbconvert_exporter": "python",
   "pygments_lexer": "ipython3",
   "version": "3.8.10"
  },
  "orig_nbformat": 4
 },
 "nbformat": 4,
 "nbformat_minor": 2
}
